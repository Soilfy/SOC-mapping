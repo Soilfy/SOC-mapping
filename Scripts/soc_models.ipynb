{
 "cells": [
  {
   "cell_type": "code",
   "execution_count": 24,
   "metadata": {},
   "outputs": [],
   "source": [
    "# import libraries\n",
    "import pandas as pd\n",
    "import numpy as np\n",
    "from sklearn.model_selection import train_test_split\n",
    "from sklearn.linear_model import LinearRegression, Ridge, Lasso, ElasticNet\n",
    "from sklearn.ensemble import RandomForestRegressor\n",
    "from sklearn.svm import SVR\n",
    "\n",
    "from sklearn.metrics import mean_squared_error\n",
    "from sklearn.metrics import r2_score\n",
    "from sklearn.model_selection import GridSearchCV\n",
    "from sklearn.preprocessing import StandardScaler\n",
    "\n",
    "\n"
   ]
  },
  {
   "cell_type": "code",
   "execution_count": 4,
   "metadata": {},
   "outputs": [
    {
     "data": {
      "text/html": [
       "<div>\n",
       "<style scoped>\n",
       "    .dataframe tbody tr th:only-of-type {\n",
       "        vertical-align: middle;\n",
       "    }\n",
       "\n",
       "    .dataframe tbody tr th {\n",
       "        vertical-align: top;\n",
       "    }\n",
       "\n",
       "    .dataframe thead th {\n",
       "        text-align: right;\n",
       "    }\n",
       "</style>\n",
       "<table border=\"1\" class=\"dataframe\">\n",
       "  <thead>\n",
       "    <tr style=\"text-align: right;\">\n",
       "      <th></th>\n",
       "      <th>OC</th>\n",
       "      <th>B11</th>\n",
       "      <th>B12</th>\n",
       "      <th>B4</th>\n",
       "      <th>B8</th>\n",
       "      <th>bai</th>\n",
       "      <th>bsi</th>\n",
       "      <th>slope</th>\n",
       "      <th>LST_Day_1km</th>\n",
       "      <th>elevation</th>\n",
       "    </tr>\n",
       "  </thead>\n",
       "  <tbody>\n",
       "    <tr>\n",
       "      <th>0</th>\n",
       "      <td>0.5</td>\n",
       "      <td>0.34295</td>\n",
       "      <td>0.29280</td>\n",
       "      <td>0.1571</td>\n",
       "      <td>0.23960</td>\n",
       "      <td>28.155871</td>\n",
       "      <td>0.845041</td>\n",
       "      <td>0.584573</td>\n",
       "      <td>15028.93802</td>\n",
       "      <td>65</td>\n",
       "    </tr>\n",
       "    <tr>\n",
       "      <th>1</th>\n",
       "      <td>0.5</td>\n",
       "      <td>0.21725</td>\n",
       "      <td>0.11935</td>\n",
       "      <td>0.0808</td>\n",
       "      <td>0.38110</td>\n",
       "      <td>9.664278</td>\n",
       "      <td>0.399940</td>\n",
       "      <td>3.243201</td>\n",
       "      <td>15029.87919</td>\n",
       "      <td>61</td>\n",
       "    </tr>\n",
       "    <tr>\n",
       "      <th>2</th>\n",
       "      <td>0.5</td>\n",
       "      <td>0.32180</td>\n",
       "      <td>0.23630</td>\n",
       "      <td>0.1131</td>\n",
       "      <td>0.24680</td>\n",
       "      <td>28.517773</td>\n",
       "      <td>0.723246</td>\n",
       "      <td>0.831567</td>\n",
       "      <td>15030.76218</td>\n",
       "      <td>60</td>\n",
       "    </tr>\n",
       "    <tr>\n",
       "      <th>3</th>\n",
       "      <td>0.5</td>\n",
       "      <td>0.27010</td>\n",
       "      <td>0.19210</td>\n",
       "      <td>0.1230</td>\n",
       "      <td>0.23735</td>\n",
       "      <td>31.267565</td>\n",
       "      <td>0.733729</td>\n",
       "      <td>0.935632</td>\n",
       "      <td>15033.97166</td>\n",
       "      <td>56</td>\n",
       "    </tr>\n",
       "    <tr>\n",
       "      <th>4</th>\n",
       "      <td>0.5</td>\n",
       "      <td>0.22785</td>\n",
       "      <td>0.15960</td>\n",
       "      <td>0.0992</td>\n",
       "      <td>0.21465</td>\n",
       "      <td>41.810802</td>\n",
       "      <td>0.691516</td>\n",
       "      <td>2.774910</td>\n",
       "      <td>15034.07980</td>\n",
       "      <td>58</td>\n",
       "    </tr>\n",
       "  </tbody>\n",
       "</table>\n",
       "</div>"
      ],
      "text/plain": [
       "    OC      B11      B12      B4       B8        bai       bsi     slope  \\\n",
       "0  0.5  0.34295  0.29280  0.1571  0.23960  28.155871  0.845041  0.584573   \n",
       "1  0.5  0.21725  0.11935  0.0808  0.38110   9.664278  0.399940  3.243201   \n",
       "2  0.5  0.32180  0.23630  0.1131  0.24680  28.517773  0.723246  0.831567   \n",
       "3  0.5  0.27010  0.19210  0.1230  0.23735  31.267565  0.733729  0.935632   \n",
       "4  0.5  0.22785  0.15960  0.0992  0.21465  41.810802  0.691516  2.774910   \n",
       "\n",
       "   LST_Day_1km  elevation  \n",
       "0  15028.93802         65  \n",
       "1  15029.87919         61  \n",
       "2  15030.76218         60  \n",
       "3  15033.97166         56  \n",
       "4  15034.07980         58  "
      ]
     },
     "execution_count": 4,
     "metadata": {},
     "output_type": "execute_result"
    }
   ],
   "source": [
    "\n",
    "# Read in the data\n",
    "df = pd.read_csv(\"../data/soilify_bihar_training_cleaned.csv\")\n",
    "df.head()"
   ]
  },
  {
   "cell_type": "markdown",
   "metadata": {},
   "source": [
    "## standardise data"
   ]
  },
  {
   "cell_type": "code",
   "execution_count": 10,
   "metadata": {},
   "outputs": [],
   "source": [
    "\n",
    "#Define the dependent variable\n",
    "dependent_var = \"OC\"\n",
    "\n",
    "# Define the independent variables\n",
    "independent_vars = list(df.drop(dependent_var, axis=1))\n",
    "\n",
    "\n",
    "# Create a StandardScaler object\n",
    "scaler = StandardScaler()\n",
    "\n",
    "# Fit the scaler to the independent variables\n",
    "scaler.fit(df[independent_vars])\n",
    "\n",
    "# Transform the independent variables using the scaler\n",
    "df[independent_vars] = scaler.transform(df[independent_vars])"
   ]
  },
  {
   "cell_type": "markdown",
   "metadata": {},
   "source": [
    "## Data Split"
   ]
  },
  {
   "cell_type": "code",
   "execution_count": 11,
   "metadata": {},
   "outputs": [
    {
     "data": {
      "text/plain": [
       "((1251, 9), (313, 9), (1251,), (313,))"
      ]
     },
     "execution_count": 11,
     "metadata": {},
     "output_type": "execute_result"
    }
   ],
   "source": [
    "\n",
    "# Split the data into training and testing sets\n",
    "X_train, X_test, y_train, y_test = train_test_split(df[independent_vars], df[dependent_var], test_size=0.2, random_state=42)\n",
    "\n",
    "X_train.shape, X_test.shape, y_train.shape, y_test.shape\n"
   ]
  },
  {
   "cell_type": "markdown",
   "metadata": {},
   "source": [
    "## Linear Regression"
   ]
  },
  {
   "cell_type": "code",
   "execution_count": 12,
   "metadata": {},
   "outputs": [
    {
     "name": "stdout",
     "output_type": "stream",
     "text": [
      "Linear regression:\n",
      "RMSE: 0.18360544808046847\n",
      "R-squared: 0.03024555554883057\n"
     ]
    }
   ],
   "source": [
    "# Fit a linear regression model to the training data\n",
    "lm_model = LinearRegression().fit(X_train, y_train)\n",
    "\n",
    "# Make predictions on the testing data using the fitted model\n",
    "lm_predictions = lm_model.predict(X_test)\n",
    "\n",
    "# Calculate the root mean squared error of the predictions\n",
    "lm_rmse = mean_squared_error(y_test, lm_predictions, squared=False)\n",
    "\n",
    "# Calculate the R-squared value of the model\n",
    "lm_r_squared = lm_model.score(X_test, y_test)\n",
    "\n",
    "# Print the root mean squared error and R-squared value\n",
    "print(\"Linear regression:\")\n",
    "print(\"RMSE:\", lm_rmse)\n",
    "print(\"R-squared:\", lm_r_squared)"
   ]
  },
  {
   "cell_type": "markdown",
   "metadata": {},
   "source": [
    "## Ridge Regression"
   ]
  },
  {
   "cell_type": "code",
   "execution_count": 21,
   "metadata": {},
   "outputs": [
    {
     "name": "stdout",
     "output_type": "stream",
     "text": [
      "Ridge regression:\n",
      "Best hyperparameters: {'alpha': 100}\n",
      "RMSE: 0.18381115986526317\n",
      "R-squared: 0.028071309914509346\n"
     ]
    }
   ],
   "source": [
    "# Define the hyperparameters for Ridge regression\n",
    "ridge_params = {\"alpha\": [0.01, 0.1, 1, 10, 100]}\n",
    "\n",
    "# Perform hyperparameter tuning for Ridge regression using cross-validation\n",
    "ridge_cv = GridSearchCV(Ridge(), ridge_params, cv=5).fit(X_train, y_train)\n",
    "\n",
    "# Make predictions on the testing data using the fitted model\n",
    "ridge_predictions = ridge_cv.predict(X_test)\n",
    "\n",
    "# Calculate the root mean squared error and R-squared value of the predictions\n",
    "ridge_rmse = mean_squared_error(y_test, ridge_predictions, squared=False)\n",
    "ridge_r_squared = r2_score(y_test, ridge_predictions)\n",
    "\n",
    "# Print the root mean squared error and R-squared value for Ridge regression\n",
    "print(\"Ridge regression:\")\n",
    "print(\"Best hyperparameters:\", ridge_cv.best_params_)\n",
    "print(\"RMSE:\", ridge_rmse)\n",
    "print(\"R-squared:\", ridge_r_squared)\n"
   ]
  },
  {
   "cell_type": "markdown",
   "metadata": {},
   "source": [
    "## Lasso Regression"
   ]
  },
  {
   "cell_type": "code",
   "execution_count": 22,
   "metadata": {},
   "outputs": [
    {
     "name": "stdout",
     "output_type": "stream",
     "text": [
      "Lasso regression:\n",
      "Best hyperparameters: {'alpha': 0.01}\n",
      "RMSE: 0.18424199861310378\n",
      "R-squared: 0.023509722989188075\n"
     ]
    }
   ],
   "source": [
    "# Define the hyperparameters for Lasso regression\n",
    "lasso_params = {\"alpha\": [0.01, 0.1, 1, 10, 100]}\n",
    "\n",
    "# Perform hyperparameter tuning for Lasso regression using cross-validation\n",
    "lasso_cv = GridSearchCV(Lasso(), lasso_params, cv=5).fit(X_train, y_train)\n",
    "\n",
    "# Make predictions on the testing data using the fitted model\n",
    "lasso_predictions = lasso_cv.predict(X_test)\n",
    "\n",
    "# Calculate the root mean squared error and R-squared value of the predictions\n",
    "lasso_rmse = mean_squared_error(y_test, lasso_predictions, squared=False)\n",
    "lasso_r_squared = r2_score(y_test, lasso_predictions)\n",
    "\n",
    "# Print the root mean squared error and R-squared value for Lasso regression\n",
    "print(\"Lasso regression:\")\n",
    "print(\"Best hyperparameters:\", lasso_cv.best_params_)\n",
    "print(\"RMSE:\", lasso_rmse)\n",
    "print(\"R-squared:\", lasso_r_squared)\n"
   ]
  },
  {
   "cell_type": "markdown",
   "metadata": {},
   "source": [
    "## Elastic Net Regression"
   ]
  },
  {
   "cell_type": "code",
   "execution_count": 23,
   "metadata": {},
   "outputs": [
    {
     "name": "stdout",
     "output_type": "stream",
     "text": [
      "Elastic Net regression:\n",
      "Best hyperparameters: {'alpha': 0.01, 'l1_ratio': 0.3}\n",
      "RMSE: 0.18379892067467885\n",
      "R-squared: 0.028200738665648428\n"
     ]
    }
   ],
   "source": [
    "# Define the hyperparameters for Elastic Net regression\n",
    "elastic_net_params = {\"alpha\": [0.01, 0.1, 1, 10, 100], \"l1_ratio\": [0.1, 0.3, 0.5, 0.7, 0.9]}\n",
    "\n",
    "# Perform hyperparameter tuning for Elastic Net regression using cross-validation\n",
    "elastic_net_cv = GridSearchCV(ElasticNet(), elastic_net_params, cv=5).fit(X_train, y_train)\n",
    "\n",
    "# Make predictions on the testing data using the fitted model\n",
    "elastic_net_predictions = elastic_net_cv.predict(X_test)\n",
    "\n",
    "# Calculate the root mean squared error and R-squared value of the predictions\n",
    "elastic_net_rmse = mean_squared_error(y_test, elastic_net_predictions, squared=False)\n",
    "elastic_net_r_squared = r2_score(y_test, elastic_net_predictions)\n",
    "\n",
    "# Print the root mean squared error and R-squared value for Elastic Net regression\n",
    "print(\"Elastic Net regression:\")\n",
    "print(\"Best hyperparameters:\", elastic_net_cv.best_params_)\n",
    "print(\"RMSE:\", elastic_net_rmse)\n",
    "print(\"R-squared:\", elastic_net_r_squared)\n"
   ]
  },
  {
   "cell_type": "markdown",
   "metadata": {},
   "source": [
    "## Random Forest Regression"
   ]
  },
  {
   "cell_type": "code",
   "execution_count": 25,
   "metadata": {},
   "outputs": [
    {
     "name": "stdout",
     "output_type": "stream",
     "text": [
      "Random Forest regression:\n",
      "RMSE: 0.18321860586133268\n",
      "R-squared: 0.03432764317686321\n",
      "Best hyperparameters: {'max_depth': 10, 'min_samples_split': 10, 'n_estimators': 50}\n"
     ]
    }
   ],
   "source": [
    "# Define the hyperparameters for Random Forest regression\n",
    "rf_params = {\"n_estimators\": [50, 100, 200, 500], \"max_depth\": [None, 5, 10, 20], \"min_samples_split\": [2, 5, 10]}\n",
    "\n",
    "# Perform hyperparameter tuning for Random Forest regression using cross-validation\n",
    "rf_cv = GridSearchCV(RandomForestRegressor(random_state=42), rf_params, cv=5).fit(X_train, y_train)\n",
    "\n",
    "# Make predictions on the testing data using the fitted model\n",
    "rf_predictions = rf_cv.predict(X_test)\n",
    "\n",
    "# Calculate the root mean squared error and R-squared value of the predictions\n",
    "rf_rmse = mean_squared_error(y_test, rf_predictions, squared=False)\n",
    "rf_r_squared = r2_score(y_test, rf_predictions)\n",
    "\n",
    "# Print the root mean squared error and R-squared value for Random Forest regression\n",
    "print(\"Random Forest regression:\")\n",
    "print(\"Best hyperparameters:\", rf_cv.best_params_)\n",
    "print(\"RMSE:\", rf_rmse)\n",
    "print(\"R-squared:\", rf_r_squared)\n",
    "\n"
   ]
  },
  {
   "cell_type": "markdown",
   "metadata": {},
   "source": [
    "## SVM Regression"
   ]
  },
  {
   "cell_type": "code",
   "execution_count": 26,
   "metadata": {},
   "outputs": [
    {
     "name": "stdout",
     "output_type": "stream",
     "text": [
      "Support Vector Machine regression:\n",
      "Best hyperparameters: {'C': 0.1, 'gamma': 1, 'kernel': 'rbf'}\n",
      "RMSE: 0.18519509986958665\n",
      "R-squared: 0.013380638402137657\n"
     ]
    }
   ],
   "source": [
    "# Define the hyperparameters for Support Vector Machine regression\n",
    "svm_params = {\"C\": [0.01, 0.1, 1, 10, 100], \"gamma\": [0.01, 0.1, 1, 10, 100], \"kernel\": [\"linear\", \"rbf\"]}\n",
    "\n",
    "# Perform hyperparameter tuning for Support Vector Machine regression using cross-validation\n",
    "svm_cv = GridSearchCV(SVR(), svm_params, cv=5).fit(X_train, y_train)\n",
    "\n",
    "# Make predictions on the testing data using the fitted model\n",
    "svm_predictions = svm_cv.predict(X_test)\n",
    "\n",
    "# Calculate the root mean squared error and R-squared value of the predictions\n",
    "svm_rmse = mean_squared_error(y_test, svm_predictions, squared=False)\n",
    "svm_r_squared = r2_score(y_test, svm_predictions)\n",
    "\n",
    "# Print the root mean squared error and R-squared value for Support Vector Machine regression\n",
    "print(\"Support Vector Machine regression:\")\n",
    "print(\"Best hyperparameters:\", svm_cv.best_params_)\n",
    "print(\"RMSE:\", svm_rmse)\n",
    "print(\"R-squared:\", svm_r_squared)\n"
   ]
  },
  {
   "cell_type": "markdown",
   "metadata": {},
   "source": [
    "## Results"
   ]
  },
  {
   "cell_type": "code",
   "execution_count": 31,
   "metadata": {},
   "outputs": [
    {
     "data": {
      "text/html": [
       "<div>\n",
       "<style scoped>\n",
       "    .dataframe tbody tr th:only-of-type {\n",
       "        vertical-align: middle;\n",
       "    }\n",
       "\n",
       "    .dataframe tbody tr th {\n",
       "        vertical-align: top;\n",
       "    }\n",
       "\n",
       "    .dataframe thead th {\n",
       "        text-align: right;\n",
       "    }\n",
       "</style>\n",
       "<table border=\"1\" class=\"dataframe\">\n",
       "  <thead>\n",
       "    <tr style=\"text-align: right;\">\n",
       "      <th></th>\n",
       "      <th>Model</th>\n",
       "      <th>RMSE</th>\n",
       "      <th>R-squared</th>\n",
       "    </tr>\n",
       "  </thead>\n",
       "  <tbody>\n",
       "    <tr>\n",
       "      <th>4</th>\n",
       "      <td>Random Forest Regression</td>\n",
       "      <td>0.183219</td>\n",
       "      <td>0.034328</td>\n",
       "    </tr>\n",
       "    <tr>\n",
       "      <th>0</th>\n",
       "      <td>Linear Regression</td>\n",
       "      <td>0.183605</td>\n",
       "      <td>0.030246</td>\n",
       "    </tr>\n",
       "    <tr>\n",
       "      <th>3</th>\n",
       "      <td>Elastic Net Regression</td>\n",
       "      <td>0.183799</td>\n",
       "      <td>0.028201</td>\n",
       "    </tr>\n",
       "    <tr>\n",
       "      <th>1</th>\n",
       "      <td>Ridge Regression</td>\n",
       "      <td>0.183811</td>\n",
       "      <td>0.028071</td>\n",
       "    </tr>\n",
       "    <tr>\n",
       "      <th>2</th>\n",
       "      <td>Lasso Regression</td>\n",
       "      <td>0.184242</td>\n",
       "      <td>0.023510</td>\n",
       "    </tr>\n",
       "    <tr>\n",
       "      <th>5</th>\n",
       "      <td>Support Vector Machine Regression</td>\n",
       "      <td>0.185195</td>\n",
       "      <td>0.013381</td>\n",
       "    </tr>\n",
       "  </tbody>\n",
       "</table>\n",
       "</div>"
      ],
      "text/plain": [
       "                               Model      RMSE  R-squared\n",
       "4           Random Forest Regression  0.183219   0.034328\n",
       "0                  Linear Regression  0.183605   0.030246\n",
       "3             Elastic Net Regression  0.183799   0.028201\n",
       "1                   Ridge Regression  0.183811   0.028071\n",
       "2                   Lasso Regression  0.184242   0.023510\n",
       "5  Support Vector Machine Regression  0.185195   0.013381"
      ]
     },
     "execution_count": 31,
     "metadata": {},
     "output_type": "execute_result"
    }
   ],
   "source": [
    "results = pd.DataFrame({\"Model\": [\"Linear Regression\", \"Ridge Regression\", \"Lasso Regression\", \"Elastic Net Regression\", \"Random Forest Regression\", \"Support Vector Machine Regression\"],\n",
    "                        \"RMSE\": [lm_rmse, ridge_rmse, lasso_rmse, elastic_net_rmse, rf_rmse, svm_rmse],\n",
    "                        \"R-squared\": [lm_r_squared, ridge_r_squared, lasso_r_squared, elastic_net_r_squared, rf_r_squared, svm_r_squared]})\n",
    "results.sort_values(\"R-squared\", ascending=False)\n"
   ]
  },
  {
   "cell_type": "code",
   "execution_count": 33,
   "metadata": {},
   "outputs": [
    {
     "data": {
      "image/png": "[encoded data removed]",
      "text/plain": [
       "<Figure size 1170x827 with 1 Axes>"
      ]
     },
     "metadata": {},
     "output_type": "display_data"
    }
   ],
   "source": [
    "# plot r2 in ascending order\n",
    "import seaborn as sns\n",
    "import matplotlib.pyplot as plt\n",
    "sns.set_theme(style=\"whitegrid\")\n",
    "ax = sns.barplot(x=\"R-squared\", y=\"Model\", data=results.sort_values(\"R-squared\", ascending=False))\n",
    "plt.show()"
   ]
  }
 ],
 "metadata": {
  "kernelspec": {
   "display_name": "ee",
   "language": "python",
   "name": "python3"
  },
  "language_info": {
   "codemirror_mode": {
    "name": "ipython",
    "version": 3
   },
   "file_extension": ".py",
   "mimetype": "text/x-python",
   "name": "python",
   "nbconvert_exporter": "python",
   "pygments_lexer": "ipython3",
   "version": "3.9.13"
  }
 },
 "nbformat": 4,
 "nbformat_minor": 2
}
